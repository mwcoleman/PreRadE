{
 "cells": [
  {
   "cell_type": "code",
   "execution_count": 1,
   "metadata": {},
   "outputs": [],
   "source": [
    "import pandas as pd\n",
    "import os, random\n",
    "\n",
    "random.seed(808)"
   ]
  },
  {
   "cell_type": "markdown",
   "metadata": {},
   "source": [
    "First, define the report/meta data file locations"
   ]
  },
  {
   "cell_type": "code",
   "execution_count": 2,
   "metadata": {},
   "outputs": [],
   "source": [
    "ROOT = '/media/matt/data21/datasets/mimic-cxr/data'\n",
    "\n",
    "labels = pd.read_csv(os.path.join(ROOT, 'mimic-cxr-2.0.0-chexpert.csv.gz'))\n",
    "records = pd.read_csv(os.path.join(ROOT, 'cxr-record-list.csv.gz'))\n",
    "studies = pd.read_csv(os.path.join(ROOT, 'cxr-study-list.csv.gz'))\n",
    "metadata = pd.read_csv(os.path.join(ROOT, 'mimic-cxr-2.0.0-metadata.csv.gz'))\n",
    "\n"
   ]
  },
  {
   "cell_type": "markdown",
   "metadata": {},
   "source": [
    "There is no one format for the radiologist report. We need to standardise our text inputs, with the aim to contain the most relevant string of text. Furthermore, computing constraints limit our sequence input to a maximum of around 50 characters. "
   ]
  },
  {
   "cell_type": "code",
   "execution_count": 3,
   "metadata": {},
   "outputs": [
    {
     "ename": "KeyboardInterrupt",
     "evalue": "",
     "output_type": "error",
     "traceback": [
      "\u001b[0;31m---------------------------------------------------------------------------\u001b[0m",
      "\u001b[0;31mKeyboardInterrupt\u001b[0m                         Traceback (most recent call last)",
      "\u001b[0;32m/tmp/ipykernel_65791/4048514843.py\u001b[0m in \u001b[0;36m<module>\u001b[0;34m\u001b[0m\n\u001b[0;32m----> 1\u001b[0;31m \u001b[0mstudies\u001b[0m\u001b[0;34m[\u001b[0m\u001b[0;34m'report'\u001b[0m\u001b[0;34m]\u001b[0m \u001b[0;34m=\u001b[0m \u001b[0mstudies\u001b[0m\u001b[0;34m.\u001b[0m\u001b[0mpath\u001b[0m\u001b[0;34m.\u001b[0m\u001b[0mapply\u001b[0m\u001b[0;34m(\u001b[0m\u001b[0;32mlambda\u001b[0m \u001b[0mx\u001b[0m\u001b[0;34m:\u001b[0m \u001b[0;34m' '\u001b[0m\u001b[0;34m.\u001b[0m\u001b[0mjoin\u001b[0m\u001b[0;34m(\u001b[0m\u001b[0;34m[\u001b[0m\u001b[0mline\u001b[0m\u001b[0;34m.\u001b[0m\u001b[0mstrip\u001b[0m\u001b[0;34m(\u001b[0m\u001b[0;34m)\u001b[0m \u001b[0;32mfor\u001b[0m \u001b[0mline\u001b[0m \u001b[0;32min\u001b[0m \u001b[0mopen\u001b[0m\u001b[0;34m(\u001b[0m\u001b[0mos\u001b[0m\u001b[0;34m.\u001b[0m\u001b[0mpath\u001b[0m\u001b[0;34m.\u001b[0m\u001b[0mjoin\u001b[0m\u001b[0;34m(\u001b[0m\u001b[0mROOT\u001b[0m\u001b[0;34m,\u001b[0m\u001b[0;34m'mimic-cxr-reports'\u001b[0m\u001b[0;34m,\u001b[0m\u001b[0mx\u001b[0m\u001b[0;34m)\u001b[0m\u001b[0;34m)\u001b[0m\u001b[0;34m]\u001b[0m\u001b[0;34m)\u001b[0m\u001b[0;34m)\u001b[0m\u001b[0;34m\u001b[0m\u001b[0;34m\u001b[0m\u001b[0m\n\u001b[0m",
      "\u001b[0;32m~/anaconda3/envs/dw/lib/python3.8/site-packages/pandas/core/series.py\u001b[0m in \u001b[0;36mapply\u001b[0;34m(self, func, convert_dtype, args, **kwargs)\u001b[0m\n\u001b[1;32m   4355\u001b[0m         \u001b[0mdtype\u001b[0m\u001b[0;34m:\u001b[0m \u001b[0mfloat64\u001b[0m\u001b[0;34m\u001b[0m\u001b[0;34m\u001b[0m\u001b[0m\n\u001b[1;32m   4356\u001b[0m         \"\"\"\n\u001b[0;32m-> 4357\u001b[0;31m         \u001b[0;32mreturn\u001b[0m \u001b[0mSeriesApply\u001b[0m\u001b[0;34m(\u001b[0m\u001b[0mself\u001b[0m\u001b[0;34m,\u001b[0m \u001b[0mfunc\u001b[0m\u001b[0;34m,\u001b[0m \u001b[0mconvert_dtype\u001b[0m\u001b[0;34m,\u001b[0m \u001b[0margs\u001b[0m\u001b[0;34m,\u001b[0m \u001b[0mkwargs\u001b[0m\u001b[0;34m)\u001b[0m\u001b[0;34m.\u001b[0m\u001b[0mapply\u001b[0m\u001b[0;34m(\u001b[0m\u001b[0;34m)\u001b[0m\u001b[0;34m\u001b[0m\u001b[0;34m\u001b[0m\u001b[0m\n\u001b[0m\u001b[1;32m   4358\u001b[0m \u001b[0;34m\u001b[0m\u001b[0m\n\u001b[1;32m   4359\u001b[0m     def _reduce(\n",
      "\u001b[0;32m~/anaconda3/envs/dw/lib/python3.8/site-packages/pandas/core/apply.py\u001b[0m in \u001b[0;36mapply\u001b[0;34m(self)\u001b[0m\n\u001b[1;32m   1041\u001b[0m             \u001b[0;32mreturn\u001b[0m \u001b[0mself\u001b[0m\u001b[0;34m.\u001b[0m\u001b[0mapply_str\u001b[0m\u001b[0;34m(\u001b[0m\u001b[0;34m)\u001b[0m\u001b[0;34m\u001b[0m\u001b[0;34m\u001b[0m\u001b[0m\n\u001b[1;32m   1042\u001b[0m \u001b[0;34m\u001b[0m\u001b[0m\n\u001b[0;32m-> 1043\u001b[0;31m         \u001b[0;32mreturn\u001b[0m \u001b[0mself\u001b[0m\u001b[0;34m.\u001b[0m\u001b[0mapply_standard\u001b[0m\u001b[0;34m(\u001b[0m\u001b[0;34m)\u001b[0m\u001b[0;34m\u001b[0m\u001b[0;34m\u001b[0m\u001b[0m\n\u001b[0m\u001b[1;32m   1044\u001b[0m \u001b[0;34m\u001b[0m\u001b[0m\n\u001b[1;32m   1045\u001b[0m     \u001b[0;32mdef\u001b[0m \u001b[0magg\u001b[0m\u001b[0;34m(\u001b[0m\u001b[0mself\u001b[0m\u001b[0;34m)\u001b[0m\u001b[0;34m:\u001b[0m\u001b[0;34m\u001b[0m\u001b[0;34m\u001b[0m\u001b[0m\n",
      "\u001b[0;32m~/anaconda3/envs/dw/lib/python3.8/site-packages/pandas/core/apply.py\u001b[0m in \u001b[0;36mapply_standard\u001b[0;34m(self)\u001b[0m\n\u001b[1;32m   1097\u001b[0m                 \u001b[0;31m# List[Union[Callable[..., Any], str]]]]]\"; expected\u001b[0m\u001b[0;34m\u001b[0m\u001b[0;34m\u001b[0m\u001b[0;34m\u001b[0m\u001b[0m\n\u001b[1;32m   1098\u001b[0m                 \u001b[0;31m# \"Callable[[Any], Any]\"\u001b[0m\u001b[0;34m\u001b[0m\u001b[0;34m\u001b[0m\u001b[0;34m\u001b[0m\u001b[0m\n\u001b[0;32m-> 1099\u001b[0;31m                 mapped = lib.map_infer(\n\u001b[0m\u001b[1;32m   1100\u001b[0m                     \u001b[0mvalues\u001b[0m\u001b[0;34m,\u001b[0m\u001b[0;34m\u001b[0m\u001b[0;34m\u001b[0m\u001b[0m\n\u001b[1;32m   1101\u001b[0m                     \u001b[0mf\u001b[0m\u001b[0;34m,\u001b[0m  \u001b[0;31m# type: ignore[arg-type]\u001b[0m\u001b[0;34m\u001b[0m\u001b[0;34m\u001b[0m\u001b[0m\n",
      "\u001b[0;32m~/anaconda3/envs/dw/lib/python3.8/site-packages/pandas/_libs/lib.pyx\u001b[0m in \u001b[0;36mpandas._libs.lib.map_infer\u001b[0;34m()\u001b[0m\n",
      "\u001b[0;32m/tmp/ipykernel_65791/4048514843.py\u001b[0m in \u001b[0;36m<lambda>\u001b[0;34m(x)\u001b[0m\n\u001b[0;32m----> 1\u001b[0;31m \u001b[0mstudies\u001b[0m\u001b[0;34m[\u001b[0m\u001b[0;34m'report'\u001b[0m\u001b[0;34m]\u001b[0m \u001b[0;34m=\u001b[0m \u001b[0mstudies\u001b[0m\u001b[0;34m.\u001b[0m\u001b[0mpath\u001b[0m\u001b[0;34m.\u001b[0m\u001b[0mapply\u001b[0m\u001b[0;34m(\u001b[0m\u001b[0;32mlambda\u001b[0m \u001b[0mx\u001b[0m\u001b[0;34m:\u001b[0m \u001b[0;34m' '\u001b[0m\u001b[0;34m.\u001b[0m\u001b[0mjoin\u001b[0m\u001b[0;34m(\u001b[0m\u001b[0;34m[\u001b[0m\u001b[0mline\u001b[0m\u001b[0;34m.\u001b[0m\u001b[0mstrip\u001b[0m\u001b[0;34m(\u001b[0m\u001b[0;34m)\u001b[0m \u001b[0;32mfor\u001b[0m \u001b[0mline\u001b[0m \u001b[0;32min\u001b[0m \u001b[0mopen\u001b[0m\u001b[0;34m(\u001b[0m\u001b[0mos\u001b[0m\u001b[0;34m.\u001b[0m\u001b[0mpath\u001b[0m\u001b[0;34m.\u001b[0m\u001b[0mjoin\u001b[0m\u001b[0;34m(\u001b[0m\u001b[0mROOT\u001b[0m\u001b[0;34m,\u001b[0m\u001b[0;34m'mimic-cxr-reports'\u001b[0m\u001b[0;34m,\u001b[0m\u001b[0mx\u001b[0m\u001b[0;34m)\u001b[0m\u001b[0;34m)\u001b[0m\u001b[0;34m]\u001b[0m\u001b[0;34m)\u001b[0m\u001b[0;34m)\u001b[0m\u001b[0;34m\u001b[0m\u001b[0;34m\u001b[0m\u001b[0m\n\u001b[0m",
      "\u001b[0;32m/tmp/ipykernel_65791/4048514843.py\u001b[0m in \u001b[0;36m<listcomp>\u001b[0;34m(.0)\u001b[0m\n\u001b[0;32m----> 1\u001b[0;31m \u001b[0mstudies\u001b[0m\u001b[0;34m[\u001b[0m\u001b[0;34m'report'\u001b[0m\u001b[0;34m]\u001b[0m \u001b[0;34m=\u001b[0m \u001b[0mstudies\u001b[0m\u001b[0;34m.\u001b[0m\u001b[0mpath\u001b[0m\u001b[0;34m.\u001b[0m\u001b[0mapply\u001b[0m\u001b[0;34m(\u001b[0m\u001b[0;32mlambda\u001b[0m \u001b[0mx\u001b[0m\u001b[0;34m:\u001b[0m \u001b[0;34m' '\u001b[0m\u001b[0;34m.\u001b[0m\u001b[0mjoin\u001b[0m\u001b[0;34m(\u001b[0m\u001b[0;34m[\u001b[0m\u001b[0mline\u001b[0m\u001b[0;34m.\u001b[0m\u001b[0mstrip\u001b[0m\u001b[0;34m(\u001b[0m\u001b[0;34m)\u001b[0m \u001b[0;32mfor\u001b[0m \u001b[0mline\u001b[0m \u001b[0;32min\u001b[0m \u001b[0mopen\u001b[0m\u001b[0;34m(\u001b[0m\u001b[0mos\u001b[0m\u001b[0;34m.\u001b[0m\u001b[0mpath\u001b[0m\u001b[0;34m.\u001b[0m\u001b[0mjoin\u001b[0m\u001b[0;34m(\u001b[0m\u001b[0mROOT\u001b[0m\u001b[0;34m,\u001b[0m\u001b[0;34m'mimic-cxr-reports'\u001b[0m\u001b[0;34m,\u001b[0m\u001b[0mx\u001b[0m\u001b[0;34m)\u001b[0m\u001b[0;34m)\u001b[0m\u001b[0;34m]\u001b[0m\u001b[0;34m)\u001b[0m\u001b[0;34m)\u001b[0m\u001b[0;34m\u001b[0m\u001b[0;34m\u001b[0m\u001b[0m\n\u001b[0m",
      "\u001b[0;32m~/anaconda3/envs/dw/lib/python3.8/codecs.py\u001b[0m in \u001b[0;36mdecode\u001b[0;34m(self, input, final)\u001b[0m\n\u001b[1;32m    317\u001b[0m         \u001b[0;32mraise\u001b[0m \u001b[0mNotImplementedError\u001b[0m\u001b[0;34m\u001b[0m\u001b[0;34m\u001b[0m\u001b[0m\n\u001b[1;32m    318\u001b[0m \u001b[0;34m\u001b[0m\u001b[0m\n\u001b[0;32m--> 319\u001b[0;31m     \u001b[0;32mdef\u001b[0m \u001b[0mdecode\u001b[0m\u001b[0;34m(\u001b[0m\u001b[0mself\u001b[0m\u001b[0;34m,\u001b[0m \u001b[0minput\u001b[0m\u001b[0;34m,\u001b[0m \u001b[0mfinal\u001b[0m\u001b[0;34m=\u001b[0m\u001b[0;32mFalse\u001b[0m\u001b[0;34m)\u001b[0m\u001b[0;34m:\u001b[0m\u001b[0;34m\u001b[0m\u001b[0;34m\u001b[0m\u001b[0m\n\u001b[0m\u001b[1;32m    320\u001b[0m         \u001b[0;31m# decode input (taking the buffer into account)\u001b[0m\u001b[0;34m\u001b[0m\u001b[0;34m\u001b[0m\u001b[0;34m\u001b[0m\u001b[0m\n\u001b[1;32m    321\u001b[0m         \u001b[0mdata\u001b[0m \u001b[0;34m=\u001b[0m \u001b[0mself\u001b[0m\u001b[0;34m.\u001b[0m\u001b[0mbuffer\u001b[0m \u001b[0;34m+\u001b[0m \u001b[0minput\u001b[0m\u001b[0;34m\u001b[0m\u001b[0;34m\u001b[0m\u001b[0m\n",
      "\u001b[0;31mKeyboardInterrupt\u001b[0m: "
     ]
    }
   ],
   "source": [
    "studies['report'] = studies.path.apply(lambda x: ' '.join([line.strip() for line in open(os.path.join(ROOT,'mimic-cxr-reports',x))]))"
   ]
  },
  {
   "cell_type": "code",
   "execution_count": null,
   "metadata": {},
   "outputs": [],
   "source": [
    "rs = records.merge(studies[['study_id','report']], how='left', on='study_id')\n",
    "# rs.rename(columns={'subject_id_x':'subject_id', 'path_x':'path_img', 'path_y':'path_report'}, inplace=True)\n",
    "# rs.drop(columns='subject_id_y', inplace=True)"
   ]
  },
  {
   "cell_type": "code",
   "execution_count": null,
   "metadata": {},
   "outputs": [],
   "source": [
    "rs = rs.merge(metadata[['dicom_id','ViewPosition']], on='dicom_id', how='left')"
   ]
  },
  {
   "cell_type": "code",
   "execution_count": null,
   "metadata": {},
   "outputs": [],
   "source": [
    "# rs = rs.merge(labels.iloc[:,1:], on='study_id')"
   ]
  },
  {
   "cell_type": "code",
   "execution_count": null,
   "metadata": {},
   "outputs": [],
   "source": [
    "import re\n",
    "# Some text cleaning\n",
    "def sanitize(text):\n",
    "    text = text.strip()\n",
    "    text = re.sub(\"\\n\", \"\", text)\n",
    "    text = re.sub(\",\", \"\", text)\n",
    "    # Remove all text before FINDINGS: section\n",
    "    r = r'^(.*finding.?:)|^(.*impression.?:)'\n",
    "\n",
    "    # TODO: comment if want to filter on impressions (not findings)\n",
    "    if( re.search(r, text, flags=re.IGNORECASE)==None ): #if no summary\n",
    "        return None\n",
    "\n",
    "    text = re.sub(r,\"\", text, flags=re.IGNORECASE)\n",
    "    # Move impression to start of report; when truncating to max_seq_len\n",
    "    # want to keep this summary\n",
    "    try:\n",
    "        r2 = r'(impression.?:.*)'\n",
    "        impressions = re.findall(r2, text, flags=re.IGNORECASE)[0]\n",
    "        imp_len = len(impressions) - len('impression:')\n",
    "        text = re.findall(r2, text, flags=re.IGNORECASE)[0] + text\n",
    "        text = text[:-imp_len]\n",
    "    except:\n",
    "        pass\n",
    "    # Now remove the word 'impression' (optional)\n",
    "    r3 = r'(impression.?:)'\n",
    "    text = re.sub(r3,\"\", text, flags=re.IGNORECASE)\n",
    "    return(text)\n"
   ]
  },
  {
   "cell_type": "code",
   "execution_count": null,
   "metadata": {},
   "outputs": [],
   "source": [
    "rs['report'] = rs.report.apply(sanitize)"
   ]
  },
  {
   "cell_type": "code",
   "execution_count": null,
   "metadata": {},
   "outputs": [],
   "source": [
    "rs.report.fillna(\"\", inplace=True)\n",
    "rs['report_len'] = rs.report.apply(str.split).apply(len)"
   ]
  },
  {
   "cell_type": "markdown",
   "metadata": {},
   "source": [
    "There's now clean report text, with impressions (if any) first, and "
   ]
  },
  {
   "cell_type": "code",
   "execution_count": null,
   "metadata": {},
   "outputs": [
    {
     "data": {
      "image/png": "[encoded data removed]",
      "text/plain": [
       "<Figure size 640x480 with 1 Axes>"
      ]
     },
     "metadata": {},
     "output_type": "display_data"
    }
   ],
   "source": [
    "import matplotlib.pyplot as plt\n",
    "ax = rs.report_len.plot.hist(bins=[0,1,50,75,100,125,150,175,200,225,250])\n",
    "plt.show()"
   ]
  },
  {
   "cell_type": "code",
   "execution_count": null,
   "metadata": {},
   "outputs": [],
   "source": []
  },
  {
   "cell_type": "code",
   "execution_count": null,
   "metadata": {},
   "outputs": [
    {
     "name": "stdout",
     "output_type": "stream",
     "text": [
      "138166\n",
      "231424\n"
     ]
    }
   ],
   "source": [
    "print(len(rs[(rs.report_len!=0) & (rs.ViewPosition=='AP')]))\n",
    "print(len(rs[(rs.report_len!=0) & ((rs.ViewPosition=='AP') | (rs.ViewPosition=='PA'))]))\n",
    "# 138k vs. 231k"
   ]
  },
  {
   "cell_type": "code",
   "execution_count": null,
   "metadata": {},
   "outputs": [],
   "source": [
    "rs_AP = rs[(rs.report_len!=0) & (rs.ViewPosition=='AP')].copy()"
   ]
  },
  {
   "cell_type": "code",
   "execution_count": null,
   "metadata": {},
   "outputs": [],
   "source": [
    "# Optional: \n",
    "rs_AP_nodup = rs_AP.drop_duplicates(subset='study_id') # 138,000 -> 124,000"
   ]
  },
  {
   "cell_type": "code",
   "execution_count": null,
   "metadata": {},
   "outputs": [],
   "source": [
    "df = rs_AP_nodup"
   ]
  },
  {
   "cell_type": "code",
   "execution_count": 8,
   "metadata": {},
   "outputs": [],
   "source": [
    "from skmultilearn.model_selection import iterative_train_test_split, IterativeStratification\n",
    "def stratify(x,y,split=0.05):\n",
    "    \"\"\"x: numpy array of indices\n",
    "       y: numpy array of multi labels\n",
    "       split: ratio of split\n",
    "       returns: stratified split indices\"\"\"\n",
    "    split = int(1/split)\n",
    "    stratifier = IterativeStratification(n_splits=split, order=4)\n",
    "    train_idx, test_idx = next(stratifier.split(x, y))\n",
    "    return train_idx, test_idx"
   ]
  },
  {
   "cell_type": "code",
   "execution_count": null,
   "metadata": {},
   "outputs": [],
   "source": [
    "# Clean up the labels, replace uncertain with none\n",
    "labels = labels.fillna(0).convert_dtypes() # Replace Na with 0\n",
    "labels = labels.replace(to_replace=-1,value=0)\n",
    "labels.loc[labels.iloc[:,2:].sum(axis=1)<1, 'No Finding'] = 1  # Optional; set no finding for blanks (10k)\n",
    "# Drop no finding as per other study\n",
    "labels = labels.drop(columns='No Finding')"
   ]
  },
  {
   "cell_type": "code",
   "execution_count": null,
   "metadata": {},
   "outputs": [],
   "source": [
    "df = df.merge(labels[labels.columns[1:]], on='study_id', how='left')"
   ]
  },
  {
   "cell_type": "code",
   "execution_count": 90,
   "metadata": {},
   "outputs": [],
   "source": [
    "# Split train off\n",
    "x = df.index.values.astype(int)\n",
    "y = df[df.columns[8:]].values.astype(int)\n",
    "\n",
    "train_idx, test_idx = stratify(x,y,0.1)\n"
   ]
  },
  {
   "cell_type": "code",
   "execution_count": 91,
   "metadata": {},
   "outputs": [],
   "source": [
    "# Split test into val:test\n",
    "x = df.iloc[test_idx,:].index.values.astype(int)\n",
    "y = df.iloc[test_idx,8:].values.astype(int)\n",
    "\n",
    "val_idx, test_idx = stratify(x, y, 0.5)\n",
    "\n"
   ]
  },
  {
   "cell_type": "code",
   "execution_count": 92,
   "metadata": {},
   "outputs": [
    {
     "name": "stdout",
     "output_type": "stream",
     "text": [
      "112124\n",
      "6229\n",
      "6229\n"
     ]
    }
   ],
   "source": [
    "for idx in (train_idx, val_idx, test_idx):\n",
    "    print(len(idx))"
   ]
  },
  {
   "cell_type": "code",
   "execution_count": 120,
   "metadata": {},
   "outputs": [],
   "source": [
    "train_set = df.iloc[train_idx]['dicom_id'].reset_index()\n",
    "val_set = df.iloc[val_idx]['dicom_id'].reset_index()\n",
    "test_set = df.iloc[test_idx]['dicom_id'].reset_index()\n",
    "\n",
    "train_set.loc[:,'split']='TRAIN'\n",
    "val_set.loc[:,'split']='VAL'\n",
    "test_set.loc[:,'split']='TEST' \n",
    "\n",
    "split_df = pd.concat([train_set, val_set, test_set], axis=0).drop(columns='index')\n",
    "split_df = split_df.merge(df, on='dicom_id', how='left').reset_index().drop(columns='index')\n",
    "\n",
    "# Also need to replace .dcm with .jpg extension\n",
    "split_df.loc[:,'path'] = split_df.path.apply(lambda x: x[:-3]+'jpg')\n",
    "\n",
    "split_df.to_csv(os.path.join(ROOT, 'studies_with_splits.csv'), index=False)"
   ]
  },
  {
   "cell_type": "code",
   "execution_count": 105,
   "metadata": {},
   "outputs": [],
   "source": [
    "df.drop(columns=['report_clean'], inplace=True)"
   ]
  },
  {
   "cell_type": "markdown",
   "metadata": {},
   "source": [
    "-------"
   ]
  },
  {
   "cell_type": "markdown",
   "metadata": {},
   "source": [
    "#### Modifying existing splits (5%,2.5%,1%,0.5%)\n",
    "\n"
   ]
  },
  {
   "cell_type": "code",
   "execution_count": 18,
   "metadata": {},
   "outputs": [],
   "source": [
    "df = pd.read_csv(os.path.join(os.path.join(ROOT, 'studies_with_splits_multi.csv')))"
   ]
  },
  {
   "cell_type": "code",
   "execution_count": 19,
   "metadata": {},
   "outputs": [
    {
     "data": {
      "text/plain": [
       "array(['95', '1.25', '5', '0.6125', '2.5', 'TEST'], dtype=object)"
      ]
     },
     "execution_count": 19,
     "metadata": {},
     "output_type": "execute_result"
    }
   ],
   "source": [
    "df.split.unique()"
   ]
  },
  {
   "cell_type": "code",
   "execution_count": 4,
   "metadata": {},
   "outputs": [
    {
     "data": {
      "text/plain": [
       "array(['TRAIN', 'VAL', 'TEST'], dtype=object)"
      ]
     },
     "execution_count": 4,
     "metadata": {},
     "output_type": "execute_result"
    }
   ],
   "source": [
    "df.split.unique()"
   ]
  },
  {
   "cell_type": "code",
   "execution_count": 5,
   "metadata": {},
   "outputs": [
    {
     "data": {
      "text/plain": [
       "6229"
      ]
     },
     "execution_count": 5,
     "metadata": {},
     "output_type": "execute_result"
    }
   ],
   "source": [
    "# Rename for clarity\n",
    "df.loc[df['split']=='VAL','split'] = '5'\n",
    "df.loc[df['split']=='TRAIN','split'] = '95'\n",
    "sum(df['split']=='5')"
   ]
  },
  {
   "cell_type": "code",
   "execution_count": 14,
   "metadata": {},
   "outputs": [
    {
     "data": {
      "text/plain": [
       "112124"
      ]
     },
     "execution_count": 14,
     "metadata": {},
     "output_type": "execute_result"
    }
   ],
   "source": [
    "sum(df['split']=='95')"
   ]
  },
  {
   "cell_type": "code",
   "execution_count": 9,
   "metadata": {},
   "outputs": [],
   "source": [
    "# Split test into 2.5:2.5\n",
    "x = df[df['split']=='5'].index.values.astype(int)\n",
    "y = df.loc[df['split']=='5',df.columns[8:]].values.astype(int)\n",
    "\n",
    "rest2_5, two_p_5 = stratify(x, y, 0.5)\n",
    "idx = x[two_p_5]\n",
    "df.loc[idx,'split'] = '2.5'"
   ]
  },
  {
   "cell_type": "code",
   "execution_count": 10,
   "metadata": {},
   "outputs": [
    {
     "name": "stdout",
     "output_type": "stream",
     "text": [
      "3114 3115\n"
     ]
    }
   ],
   "source": [
    "#Confirm\n",
    "print(sum(df.split=='5'), sum(df.split=='2.5'))"
   ]
  },
  {
   "cell_type": "code",
   "execution_count": 12,
   "metadata": {},
   "outputs": [
    {
     "name": "stdout",
     "output_type": "stream",
     "text": [
      "1557 1558\n"
     ]
    }
   ],
   "source": [
    "# Split innto 1.25:1.25\n",
    "# Rename for clarity\n",
    "x = df[df['split']=='2.5'].index.values.astype(int)\n",
    "y = df.loc[df['split']=='2.5',df.columns[8:]].values.astype(int)\n",
    "\n",
    "rest1_25, one_p_25 = stratify(x,y,0.5)\n",
    "idx_125 = x[one_p_25]\n",
    "df.loc[idx_125,'split'] = '1.25'\n",
    "#Confirm\n",
    "print(sum(df.split=='2.5'), sum(df.split=='1.25'))"
   ]
  },
  {
   "cell_type": "code",
   "execution_count": 13,
   "metadata": {},
   "outputs": [
    {
     "name": "stdout",
     "output_type": "stream",
     "text": [
      "779 779\n"
     ]
    }
   ],
   "source": [
    "# Split innto 0.6125:0.6125\n",
    "# Rename for clarity\n",
    "x = df[df['split']=='1.25'].index.values.astype(int)\n",
    "y = df.loc[df['split']=='1.25',df.columns[8:]].values.astype(int)\n",
    "\n",
    "rest06125, o_p_6125 = stratify(x,y,0.5)\n",
    "idx_06125 = x[o_p_6125]\n",
    "df.loc[idx_06125,'split'] = '0.6125'\n",
    "#Confirm\n",
    "print(sum(df.split=='1.25'), sum(df.split=='0.6125'))"
   ]
  },
  {
   "cell_type": "code",
   "execution_count": 93,
   "metadata": {},
   "outputs": [],
   "source": [
    "# To select 5% data, needs split = 5 | 2.5 | 1.25 | 0.6125\n",
    "# To select 2.5 data, needs split = 2.5 | 1.25 | 0.615\n",
    "# ...\n",
    "df.to_csv(os.path.join(ROOT, 'studies_with_splits_multi.csv'), index=False)"
   ]
  },
  {
   "cell_type": "code",
   "execution_count": 96,
   "metadata": {},
   "outputs": [
    {
     "data": {
      "text/plain": [
       "6229"
      ]
     },
     "execution_count": 96,
     "metadata": {},
     "output_type": "execute_result"
    }
   ],
   "source": [
    "splits = ['5','2.5','1.25','0.6125']\n",
    "\n",
    "len(df[df.split.isin(splits)])"
   ]
  },
  {
   "cell_type": "code",
   "execution_count": 91,
   "metadata": {},
   "outputs": [],
   "source": [
    "save_dir = os.getcwd()+'/splits/'\n",
    "\n",
    "def write_csv(arr,fp):\n",
    "    pd.DataFrame(arr).to_csv(fp)\n",
    "\n",
    "for fnames, splits in zip(['2_5','1_25','0_6125'],\n",
    "                          [idx,idx_125,idx_06125]):\n",
    "    write_csv(splits,save_dir+fnames)\n"
   ]
  }
 ],
 "metadata": {
  "interpreter": {
   "hash": "dddc448a2e61a2f367d559b14bdb33de6f329cecb79ab20b95639fee4462fb4b"
  },
  "kernelspec": {
   "display_name": "Python 3.8.0 64-bit ('dw': conda)",
   "language": "python",
   "name": "python3"
  },
  "language_info": {
   "codemirror_mode": {
    "name": "ipython",
    "version": 3
   },
   "file_extension": ".py",
   "mimetype": "text/x-python",
   "name": "python",
   "nbconvert_exporter": "python",
   "pygments_lexer": "ipython3",
   "version": "3.8.0"
  },
  "orig_nbformat": 4
 },
 "nbformat": 4,
 "nbformat_minor": 2
}
