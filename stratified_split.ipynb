{
 "cells": [
  {
   "cell_type": "code",
   "execution_count": 1,
   "metadata": {},
   "outputs": [],
   "source": [
    "import pandas as pd\n",
    "import os"
   ]
  },
  {
   "cell_type": "code",
   "execution_count": null,
   "metadata": {},
   "outputs": [],
   "source": [
    "ROOT = '/media/matt/data21/datasets/'\n",
    "MIMIC_CSV_PATH = os.path.join(ROOT, 'mimic-cxr','data','id_to_findings.csv')\n",
    "id_findings = pd.read_csv(MIMIC_CSV_PATH)\n",
    "# reports_clean = pd.read_csv(os.path.join(ROOT, 'mimic-cxr','data','reports_clean.csv'))\n",
    "labels = pd.read_csv(os.path.join(ROOT, 'mimic-cxr','data','labels', 'mimic-cxr-2.0.0-chexpert.csv.gz'))"
   ]
  },
  {
   "cell_type": "code",
   "execution_count": null,
   "metadata": {},
   "outputs": [],
   "source": [
    "labels.fillna(0, inplace=True)\n",
    "labels.iloc[:,2:]=labels[labels.columns[2:]].astype(int)\n",
    "\n",
    "id_findings = id_findings[id_findings.ViewPosition=='AP']\n",
    "\n",
    "id_findings_labels = id_findings.merge(labels, on='study_id', how='left')\n",
    "id_findings_labels.drop(columns=['Unnamed: 0', 'subject_id_y'], inplace=True)\n",
    "id_findings_labels.rename(columns={'subject_id_x':'subject_id'}, inplace=True)\n",
    "id_findings_labels.reset_index(inplace=True)\n",
    "id_findings_labels.drop(columns=['index'], inplace=True)\n",
    "# len(id_findings[id_findings.ViewPosition=='AP'])\n",
    "## ~60,000"
   ]
  },
  {
   "cell_type": "code",
   "execution_count": null,
   "metadata": {},
   "outputs": [],
   "source": [
    "# ## Assess strat combos:\n",
    "# from skmultilearn.model_selection.measures import get_combination_wise_output_matrix\n",
    "# from collections import Counter\n",
    "# counts = Counter(combination for row in get_combination_wise_output_matrix(y.values, order=4) for combination in row)\n",
    "# counts.most_common()[::-1]\n",
    "# # Order 4 yields combinations with 1 sample, this is enough?"
   ]
  },
  {
   "cell_type": "code",
   "execution_count": null,
   "metadata": {},
   "outputs": [],
   "source": [
    "from skmultilearn.model_selection import iterative_train_test_split, IterativeStratification\n",
    "\n",
    "x, y = id_findings_labels.iloc[:,:7].copy(), id_findings_labels.iloc[:,7:].copy()\n",
    "stratifier = IterativeStratification(n_splits=10, order=4)\n",
    "train_idx, test_idx = next(stratifier.split(x, y))"
   ]
  },
  {
   "cell_type": "code",
   "execution_count": null,
   "metadata": {},
   "outputs": [],
   "source": [
    "pt_set = id_findings_labels.iloc[train_idx]['dicom_id'].reset_index()\n",
    "pt_set.loc[:,'split']='PT'\n",
    "ft_set = id_findings_labels.iloc[test_idx]['dicom_id'].reset_index()\n",
    "ft_set.loc[:,'split']='FT'\n",
    "split_df = pd.concat([pt_set, ft_set], axis=0).drop(columns='index')\n",
    "split_df.to_csv(os.path.join(ROOT, 'mimic-cxr','data','id_to_split.csv'), index=False)"
   ]
  }
 ],
 "metadata": {
  "interpreter": {
   "hash": "dddc448a2e61a2f367d559b14bdb33de6f329cecb79ab20b95639fee4462fb4b"
  },
  "kernelspec": {
   "display_name": "Python 3.8.0 64-bit ('dw': conda)",
   "language": "python",
   "name": "python3"
  },
  "language_info": {
   "codemirror_mode": {
    "name": "ipython",
    "version": 3
   },
   "file_extension": ".py",
   "mimetype": "text/x-python",
   "name": "python",
   "nbconvert_exporter": "python",
   "pygments_lexer": "ipython3",
   "version": "3.8.0"
  },
  "orig_nbformat": 4
 },
 "nbformat": 4,
 "nbformat_minor": 2
}
