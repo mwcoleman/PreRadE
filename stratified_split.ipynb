{
 "cells": [
  {
   "cell_type": "code",
   "execution_count": 1,
   "metadata": {},
   "outputs": [],
   "source": [
    "import pandas as pd\n",
    "import os"
   ]
  },
  {
   "cell_type": "markdown",
   "metadata": {},
   "source": [
    "First, define the report/meta data file locations"
   ]
  },
  {
   "cell_type": "code",
   "execution_count": 2,
   "metadata": {},
   "outputs": [],
   "source": [
    "ROOT = '/media/matt/data21/datasets/mimic-cxr/data'\n",
    "\n",
    "labels = pd.read_csv(os.path.join(ROOT, 'mimic-cxr-2.0.0-chexpert.csv.gz'))\n",
    "records = pd.read_csv(os.path.join(ROOT, 'cxr-record-list.csv.gz'))\n",
    "studies = pd.read_csv(os.path.join(ROOT, 'cxr-study-list.csv.gz'))\n",
    "metadata = pd.read_csv(os.path.join(ROOT, 'mimic-cxr-2.0.0-metadata.csv.gz'))\n"
   ]
  },
  {
   "cell_type": "markdown",
   "metadata": {},
   "source": [
    "There is no one format for the radiologist report. We need to standardise our text inputs, with the aim to contain the most relevant string of text. Furthermore, computing constraints limit our sequence input to a maximum of around 50 characters. "
   ]
  },
  {
   "cell_type": "code",
   "execution_count": 6,
   "metadata": {},
   "outputs": [],
   "source": [
    "studies['report'] = studies.path.apply(lambda x: ' '.join([line.strip() for line in open(os.path.join(ROOT,'mimic-cxr-reports',x))]))"
   ]
  },
  {
   "cell_type": "code",
   "execution_count": 7,
   "metadata": {},
   "outputs": [],
   "source": [
    "rs = records.merge(studies[['study_id','report']], how='left', on='study_id')\n",
    "# rs.rename(columns={'subject_id_x':'subject_id', 'path_x':'path_img', 'path_y':'path_report'}, inplace=True)\n",
    "# rs.drop(columns='subject_id_y', inplace=True)"
   ]
  },
  {
   "cell_type": "code",
   "execution_count": 8,
   "metadata": {},
   "outputs": [],
   "source": [
    "rs = rs.merge(metadata[['dicom_id','ViewPosition']], on='dicom_id', how='left')"
   ]
  },
  {
   "cell_type": "code",
   "execution_count": 5,
   "metadata": {},
   "outputs": [],
   "source": [
    "# rs = rs.merge(labels.iloc[:,1:], on='study_id')"
   ]
  },
  {
   "cell_type": "code",
   "execution_count": 10,
   "metadata": {},
   "outputs": [],
   "source": [
    "import re\n",
    "# Some text cleaning\n",
    "def sanitize(text):\n",
    "    text = text.strip()\n",
    "    text = re.sub(\"\\n\", \"\", text)\n",
    "    text = re.sub(\",\", \"\", text)\n",
    "    # Remove all text before FINDINGS: section\n",
    "    r = r'^(.*finding.?:)|^(.*impression.?:)'\n",
    "\n",
    "    # TODO: comment if want to filter on impressions (not findings)\n",
    "    if( re.search(r, text, flags=re.IGNORECASE)==None ): #if no summary\n",
    "        return None\n",
    "\n",
    "    text = re.sub(r,\"\", text, flags=re.IGNORECASE)\n",
    "    # Move impression to start of report; when truncating to max_seq_len\n",
    "    # want to keep this summary\n",
    "    try:\n",
    "        r2 = r'(impression.?:.*)'\n",
    "        impressions = re.findall(r2, text, flags=re.IGNORECASE)[0]\n",
    "        imp_len = len(impressions) - len('impression:')\n",
    "        text = re.findall(r2, text, flags=re.IGNORECASE)[0] + text\n",
    "        text = text[:-imp_len]\n",
    "    except:\n",
    "        pass\n",
    "    # Now remove the word 'impression' (optional)\n",
    "    r3 = r'(impression.?:)'\n",
    "    text = re.sub(r3,\"\", text, flags=re.IGNORECASE)\n",
    "    return(text)\n"
   ]
  },
  {
   "cell_type": "code",
   "execution_count": 11,
   "metadata": {},
   "outputs": [],
   "source": [
    "rs['report'] = rs.report.apply(sanitize)"
   ]
  },
  {
   "cell_type": "code",
   "execution_count": 12,
   "metadata": {},
   "outputs": [],
   "source": [
    "rs.report.fillna(\"\", inplace=True)\n",
    "rs['report_len'] = rs.report.apply(str.split).apply(len)"
   ]
  },
  {
   "cell_type": "markdown",
   "metadata": {},
   "source": [
    "There's now clean report text, with impressions (if any) first, and "
   ]
  },
  {
   "cell_type": "code",
   "execution_count": 13,
   "metadata": {},
   "outputs": [
    {
     "data": {
      "image/png": "[encoded data removed]",
      "text/plain": [
       "<Figure size 640x480 with 1 Axes>"
      ]
     },
     "metadata": {},
     "output_type": "display_data"
    }
   ],
   "source": [
    "import matplotlib.pyplot as plt\n",
    "ax = rs.report_len.plot.hist(bins=[0,1,50,75,100,125,150,175,200,225,250])\n",
    "plt.show()"
   ]
  },
  {
   "cell_type": "code",
   "execution_count": 48,
   "metadata": {},
   "outputs": [],
   "source": []
  },
  {
   "cell_type": "code",
   "execution_count": 49,
   "metadata": {},
   "outputs": [
    {
     "name": "stdout",
     "output_type": "stream",
     "text": [
      "138166\n",
      "231424\n"
     ]
    }
   ],
   "source": [
    "print(len(rs[(rs.report_len!=0) & (rs.ViewPosition=='AP')]))\n",
    "print(len(rs[(rs.report_len!=0) & ((rs.ViewPosition=='AP') | (rs.ViewPosition=='PA'))]))\n",
    "# 138k vs. 231k"
   ]
  },
  {
   "cell_type": "code",
   "execution_count": 50,
   "metadata": {},
   "outputs": [],
   "source": [
    "rs_AP = rs[(rs.report_len!=0) & (rs.ViewPosition=='AP')].copy()"
   ]
  },
  {
   "cell_type": "code",
   "execution_count": 51,
   "metadata": {},
   "outputs": [],
   "source": [
    "# Optional: \n",
    "rs_AP_nodup = rs_AP.drop_duplicates(subset='study_id') # 138,000 -> 124,000"
   ]
  },
  {
   "cell_type": "code",
   "execution_count": 57,
   "metadata": {},
   "outputs": [],
   "source": [
    "df = rs_AP_nodup"
   ]
  },
  {
   "cell_type": "code",
   "execution_count": 61,
   "metadata": {},
   "outputs": [],
   "source": [
    "from skmultilearn.model_selection import iterative_train_test_split, IterativeStratification\n",
    "def stratify(x,y,split=0.05):\n",
    "    \"\"\"x: numpy array of indices\n",
    "       y: numpy array of multi labels\n",
    "       split: ratio of split\n",
    "       returns: stratified split indices\"\"\"\n",
    "    split = int(1/split)\n",
    "    stratifier = IterativeStratification(n_splits=split, order=4)\n",
    "    train_idx, test_idx = next(stratifier.split(x, y))\n",
    "    return train_idx, test_idx"
   ]
  },
  {
   "cell_type": "code",
   "execution_count": 46,
   "metadata": {},
   "outputs": [],
   "source": [
    "# Clean up the labels, replace uncertain with none\n",
    "labels = labels.fillna(0).convert_dtypes() # Replace Na with 0\n",
    "labels = labels.replace(to_replace=-1,value=0)\n",
    "labels.loc[labels.iloc[:,2:].sum(axis=1)<1, 'No Finding'] = 1  # Optional; set no finding for blanks (10k)\n",
    "# Drop no finding as per other study\n",
    "labels = labels.drop(columns='No Finding')"
   ]
  },
  {
   "cell_type": "code",
   "execution_count": 59,
   "metadata": {},
   "outputs": [],
   "source": [
    "df = df.merge(labels[labels.columns[1:]], on='study_id', how='left')"
   ]
  },
  {
   "cell_type": "code",
   "execution_count": 90,
   "metadata": {},
   "outputs": [],
   "source": [
    "# Split train off\n",
    "x = df.index.values.astype(int)\n",
    "y = df[df.columns[8:]].values.astype(int)\n",
    "\n",
    "train_idx, test_idx = stratify(x,y,0.1)\n"
   ]
  },
  {
   "cell_type": "code",
   "execution_count": 91,
   "metadata": {},
   "outputs": [],
   "source": [
    "# Split test into val:test\n",
    "x = df.iloc[test_idx,:].index.values.astype(int)\n",
    "y = df.iloc[test_idx,8:].values.astype(int)\n",
    "\n",
    "val_idx, test_idx = stratify(x, y, 0.5)\n",
    "\n"
   ]
  },
  {
   "cell_type": "code",
   "execution_count": 92,
   "metadata": {},
   "outputs": [
    {
     "name": "stdout",
     "output_type": "stream",
     "text": [
      "112124\n",
      "6229\n",
      "6229\n"
     ]
    }
   ],
   "source": [
    "for idx in (train_idx, val_idx, test_idx):\n",
    "    print(len(idx))"
   ]
  },
  {
   "cell_type": "code",
   "execution_count": 120,
   "metadata": {},
   "outputs": [],
   "source": [
    "train_set = df.iloc[train_idx]['dicom_id'].reset_index()\n",
    "val_set = df.iloc[val_idx]['dicom_id'].reset_index()\n",
    "test_set = df.iloc[test_idx]['dicom_id'].reset_index()\n",
    "\n",
    "train_set.loc[:,'split']='TRAIN'\n",
    "val_set.loc[:,'split']='VAL'\n",
    "test_set.loc[:,'split']='TEST' \n",
    "\n",
    "split_df = pd.concat([train_set, val_set, test_set], axis=0).drop(columns='index')\n",
    "split_df = split_df.merge(df, on='dicom_id', how='left').reset_index().drop(columns='index')\n",
    "\n",
    "# Also need to replace .dcm with .jpg extension\n",
    "split_df.loc[:,'path'] = split_df.path.apply(lambda x: x[:-3]+'jpg')\n",
    "\n",
    "split_df.to_csv(os.path.join(ROOT, 'studies_with_splits.csv'), index=False)"
   ]
  },
  {
   "cell_type": "code",
   "execution_count": 105,
   "metadata": {},
   "outputs": [],
   "source": [
    "df.drop(columns=['report_clean'], inplace=True)"
   ]
  },
  {
   "cell_type": "code",
   "execution_count": null,
   "metadata": {},
   "outputs": [],
   "source": [
    "# ## Assess strat combos:\n",
    "# from skmultilearn.model_selection.measures import get_combination_wise_output_matrix\n",
    "# from collections import Counter\n",
    "# counts = Counter(combination for row in get_combination_wise_output_matrix(y.values, order=4) for combination in row)\n",
    "# counts.most_common()[::-1]\n",
    "# # Order 4 yields combinations with 1 sample, this is enough?"
   ]
  },
  {
   "cell_type": "code",
   "execution_count": 1,
   "metadata": {},
   "outputs": [],
   "source": [
    "import pandas as pd"
   ]
  },
  {
   "cell_type": "code",
   "execution_count": 5,
   "metadata": {},
   "outputs": [],
   "source": [
    "df = pd.read_csv(os.path.join(os.path.join(ROOT, 'studies_with_splits.csv')))"
   ]
  },
  {
   "cell_type": "code",
   "execution_count": 8,
   "metadata": {},
   "outputs": [
    {
     "data": {
      "image/png": "[encoded data removed]",
      "text/plain": [
       "<Figure size 640x480 with 1 Axes>"
      ]
     },
     "metadata": {},
     "output_type": "display_data"
    }
   ],
   "source": [
    "import matplotlib.pyplot as plt\n",
    "\n",
    "df['report_len'].plot.hist(bins=20)\n",
    "plt.show()"
   ]
  },
  {
   "cell_type": "code",
   "execution_count": null,
   "metadata": {},
   "outputs": [],
   "source": [
    "import re\n",
    "reg = re.compile(r'')"
   ]
  }
 ],
 "metadata": {
  "interpreter": {
   "hash": "dddc448a2e61a2f367d559b14bdb33de6f329cecb79ab20b95639fee4462fb4b"
  },
  "kernelspec": {
   "display_name": "Python 3.8.0 64-bit ('dw': conda)",
   "language": "python",
   "name": "python3"
  },
  "language_info": {
   "codemirror_mode": {
    "name": "ipython",
    "version": 3
   },
   "file_extension": ".py",
   "mimetype": "text/x-python",
   "name": "python",
   "nbconvert_exporter": "python",
   "pygments_lexer": "ipython3",
   "version": "3.8.0"
  },
  "orig_nbformat": 4
 },
 "nbformat": 4,
 "nbformat_minor": 2
}
